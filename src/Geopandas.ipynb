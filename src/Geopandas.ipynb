{
 "cells": [
  {
   "cell_type": "code",
   "execution_count": null,
   "metadata": {},
   "outputs": [],
   "source": [
    "import utils\n",
    "\n",
    "import geopandas as gpd\n",
    "from shapely.geometry import Point\n",
    "\n",
    "import matplotlib.pyplot as plt\n",
    "\n",
    "%matplotlib inline"
   ]
  },
  {
   "cell_type": "code",
   "execution_count": null,
   "metadata": {},
   "outputs": [],
   "source": [
    "world = gpd.read_file(gpd.datasets.get_path('naturalearth_lowres'))\n",
    "world.drop(columns=['pop_est', 'gdp_md_est'], inplace=True)\n",
    "world.plot(cmap='Set3', figsize=(10, 6))"
   ]
  },
  {
   "cell_type": "code",
   "execution_count": null,
   "metadata": {},
   "outputs": [],
   "source": [
    "%time\n",
    "gdf = utils.load_geo_data(\"../data/LocationHistory2018.json\")"
   ]
  },
  {
   "cell_type": "code",
   "execution_count": null,
   "metadata": {},
   "outputs": [],
   "source": [
    "gdf.plot(\n",
    "    ax=world.plot(facecolor='lightgray', edgecolor='gray', figsize=(10, 6)),\n",
    "    marker='o', color='red', markersize=15\n",
    ")\n",
    "\n",
    "bounds = gdf.geometry.bounds\n",
    "\n",
    "plt.xlim([bounds.minx.min()-5, bounds.maxx.max()+5])\n",
    "plt.ylim([bounds.miny.min()-5, bounds.maxy.max()+5])"
   ]
  },
  {
   "cell_type": "code",
   "execution_count": null,
   "metadata": {},
   "outputs": [],
   "source": [
    "country_summary = (\n",
    "    gpd\n",
    "    .sjoin(gdf, world, how='inner', op='intersects')\n",
    "    .groupby('name').agg({'duration': 'sum'})\n",
    ")\n",
    "\n",
    "country_summary.rename(index=str, columns={'name': 'country'}, inplace=True)\n",
    "\n",
    "tot_duration = country_summary.duration.sum()\n",
    "\n",
    "country_summary['%'] = country_summary.apply(lambda row: row.duration/tot_duration * 100, axis=1)\n",
    "\n",
    "country_summary.sort_values('duration', ascending=False)"
   ]
  },
  {
   "cell_type": "code",
   "execution_count": null,
   "metadata": {},
   "outputs": [],
   "source": [
    "belgium = gpd.read_file('../data/raw/Belgium/belgium-roads-shape/roads.shp')\n",
    "belgium.crs = {'init' :'epsg:4326'}\n",
    "gdf.plot(\n",
    "    ax=belgium.plot(edgecolor='gray', figsize=(10, 6)),\n",
    "    marker='o', color='red', markersize=15\n",
    ")\n",
    "plt.xlim([46_700_000/10_000_000, 47_400_000/10_000_000])\n",
    "plt.ylim([508_400_000/10_000_000, 509_000_000/10_000_000])"
   ]
  },
  {
   "cell_type": "code",
   "execution_count": null,
   "metadata": {},
   "outputs": [],
   "source": []
  }
 ],
 "metadata": {
  "kernelspec": {
   "display_name": "Python 3",
   "language": "python",
   "name": "python3"
  },
  "language_info": {
   "codemirror_mode": {
    "name": "ipython",
    "version": 3
   },
   "file_extension": ".py",
   "mimetype": "text/x-python",
   "name": "python",
   "nbconvert_exporter": "python",
   "pygments_lexer": "ipython3",
   "version": "3.6.4"
  }
 },
 "nbformat": 4,
 "nbformat_minor": 2
}
