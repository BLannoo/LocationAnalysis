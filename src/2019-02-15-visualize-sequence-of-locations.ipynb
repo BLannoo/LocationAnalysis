{
 "cells": [
  {
   "cell_type": "code",
   "execution_count": null,
   "metadata": {},
   "outputs": [],
   "source": [
    "import numpy as np\n",
    "import matplotlib.pyplot as plt\n",
    "import shapely.geometry as geometry\n",
    "\n",
    "import utils"
   ]
  },
  {
   "cell_type": "code",
   "execution_count": null,
   "metadata": {},
   "outputs": [],
   "source": [
    "%time\n",
    "df = utils.load_primary_data(\"../data/LocationHistory2018-12.json\")"
   ]
  },
  {
   "cell_type": "code",
   "execution_count": null,
   "metadata": {},
   "outputs": [],
   "source": [
    "gdf = utils.enhance_with_countries(df)"
   ]
  },
  {
   "cell_type": "code",
   "execution_count": null,
   "metadata": {},
   "outputs": [],
   "source": [
    "gdf[\"point\"] = gdf.geometry\n",
    "gdf.loc[gdf.country != \"Belgium\", \"point\"] = np.NaN"
   ]
  },
  {
   "cell_type": "code",
   "execution_count": null,
   "metadata": {},
   "outputs": [],
   "source": [
    "context_size = 5\n",
    "\n",
    "for i in range(1, context_size):\n",
    "    gdf[\"next-\" + str(i)] = gdf.point.shift(i)\n",
    "    \n",
    "gdf.dropna(inplace=True)\n",
    "gdf[\"geometry\"] = gdf.apply(\n",
    "    lambda row: geometry.LineString(\n",
    "        [\n",
    "            row[\"next-\" + str(i)] \n",
    "            for i \n",
    "            in range(1, context_size)\n",
    "        ]\n",
    "    )\n",
    "    , axis=1\n",
    ")\n",
    "\n",
    "gdf.drop(\n",
    "    [\n",
    "        \"next-\" + str(i)\n",
    "        for i \n",
    "        in range(1, context_size)\n",
    "    ],\n",
    "    axis=1,\n",
    "    inplace=True\n",
    ")"
   ]
  },
  {
   "cell_type": "code",
   "execution_count": null,
   "metadata": {},
   "outputs": [],
   "source": [
    "partial_gdf = gdf.sample(1)\n",
    "\n",
    "x_max_with_border, x_min_with_border, y_max_with_border, y_min_with_border = (\n",
    "    utils.determine_extrema_with_border(partial_gdf, absolute_border_size=0.003)\n",
    ")\n",
    "\n",
    "ax = utils.BELGIUM_ROADS.plot(edgecolor=\"gray\", figsize=(10, 6), zorder=-1)\n",
    "partial_gdf.plot(ax=ax, edgecolor=\"red\", zorder=0)\n",
    "\n",
    "plt.xlim([x_min_with_border, x_max_with_border])\n",
    "plt.ylim([y_min_with_border, y_max_with_border])\n",
    "\n",
    "partial_gdf.geometry"
   ]
  },
  {
   "cell_type": "code",
   "execution_count": null,
   "metadata": {},
   "outputs": [],
   "source": []
  }
 ],
 "metadata": {
  "kernelspec": {
   "display_name": "Python 3",
   "language": "python",
   "name": "python3"
  },
  "language_info": {
   "codemirror_mode": {
    "name": "ipython",
    "version": 3
   },
   "file_extension": ".py",
   "mimetype": "text/x-python",
   "name": "python",
   "nbconvert_exporter": "python",
   "pygments_lexer": "ipython3",
   "version": "3.6.4"
  }
 },
 "nbformat": 4,
 "nbformat_minor": 2
}
