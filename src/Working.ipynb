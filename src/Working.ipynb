{
 "cells": [
  {
   "cell_type": "code",
   "execution_count": null,
   "metadata": {},
   "outputs": [],
   "source": [
    "import utils\n",
    "\n",
    "%matplotlib inline"
   ]
  },
  {
   "cell_type": "code",
   "execution_count": null,
   "metadata": {},
   "outputs": [],
   "source": [
    "%time\n",
    "df = utils.load_data(\"../data/LocationHistory2018.json\")"
   ]
  },
  {
   "cell_type": "code",
   "execution_count": null,
   "metadata": {},
   "outputs": [],
   "source": [
    "for i in range(1, 7):\n",
    "    utils.plot_single_day(df, 2018, 7, i)"
   ]
  },
  {
   "cell_type": "code",
   "execution_count": null,
   "metadata": {},
   "outputs": [],
   "source": [
    "min_x_kunlabora = 47_126_000\n",
    "max_x_kunlabora = 47_140_000\n",
    "min_y_kunlabora = 508_831_000\n",
    "max_y_kunlabora = 508_838_000\n",
    "\n",
    "hours_at_work = (\n",
    "    df[(df.longitudeE7 > min_x_kunlabora) \n",
    "       & (df.longitudeE7 < max_x_kunlabora)\n",
    "       & (df.latitudeE7 > min_y_kunlabora)\n",
    "       & (df.latitudeE7 < max_y_kunlabora)]\n",
    "    .groupby(['year', 'month', 'day'])\n",
    "    .agg({'duration': ['sum']})\n",
    ")\n",
    "\n",
    "hours_at_work.hist(bins=50, figsize=(16, 10))\n",
    "\n",
    "hours_at_work.describe()"
   ]
  },
  {
   "cell_type": "code",
   "execution_count": null,
   "metadata": {},
   "outputs": [],
   "source": []
  }
 ],
 "metadata": {
  "kernelspec": {
   "display_name": "Python 3",
   "language": "python",
   "name": "python3"
  },
  "language_info": {
   "codemirror_mode": {
    "name": "ipython",
    "version": 3
   },
   "file_extension": ".py",
   "mimetype": "text/x-python",
   "name": "python",
   "nbconvert_exporter": "python",
   "pygments_lexer": "ipython3",
   "version": "3.7.3"
  }
 },
 "nbformat": 4,
 "nbformat_minor": 4
}
