{
 "cells": [
  {
   "cell_type": "code",
   "execution_count": null,
   "metadata": {},
   "outputs": [],
   "source": [
    "import json\n",
    "import pandas as pd"
   ]
  },
  {
   "cell_type": "markdown",
   "metadata": {},
   "source": [
    "# Parameters"
   ]
  },
  {
   "cell_type": "code",
   "execution_count": null,
   "metadata": {},
   "outputs": [],
   "source": [
    "file_name_in = (\n",
    "    '../../data/raw/MyGoogleData/' \n",
    "    + 'Takeout/Location History/'\n",
    "    + 'Location History.json'\n",
    ")\n",
    "file_name_out = '../../data/processed/full.csv'"
   ]
  },
  {
   "cell_type": "markdown",
   "metadata": {},
   "source": [
    "# Load data"
   ]
  },
  {
   "cell_type": "code",
   "execution_count": null,
   "metadata": {},
   "outputs": [],
   "source": [
    "%%time\n",
    "\n",
    "with open(file_name_in) as file:\n",
    "    data = json.load(file)['locations']\n",
    "    df = pd.DataFrame(\n",
    "        {\n",
    "            'timestampMs': [\n",
    "                data_point['timestampMs']\n",
    "                for data_point in data\n",
    "            ],\n",
    "            'latitudeE7': [\n",
    "                data_point['latitudeE7']\n",
    "                for data_point in data\n",
    "            ],\n",
    "            'longitudeE7': [\n",
    "                data_point['longitudeE7']\n",
    "                for data_point in data\n",
    "            ],\n",
    "            'accuracy': [\n",
    "                data_point['accuracy']\n",
    "                for data_point in data\n",
    "            ],\n",
    "            'activity': [\n",
    "                # get returns None for absent fields\n",
    "                data_point.get('activity')\n",
    "                for data_point in data\n",
    "            ],\n",
    "        }\n",
    "    )"
   ]
  },
  {
   "cell_type": "markdown",
   "metadata": {},
   "source": [
    "# Save as csv"
   ]
  },
  {
   "cell_type": "code",
   "execution_count": null,
   "metadata": {},
   "outputs": [],
   "source": [
    "df.to_csv(\n",
    "    file_name_out, \n",
    "    index=False\n",
    ")"
   ]
  },
  {
   "cell_type": "markdown",
   "metadata": {},
   "source": [
    "# Test Loading speed"
   ]
  },
  {
   "cell_type": "code",
   "execution_count": null,
   "metadata": {},
   "outputs": [],
   "source": [
    "%%time\n",
    "\n",
    "df = pd.read_csv(file_name_out)"
   ]
  },
  {
   "cell_type": "code",
   "execution_count": null,
   "metadata": {},
   "outputs": [],
   "source": []
  }
 ],
 "metadata": {
  "kernelspec": {
   "display_name": "Python 3",
   "language": "python",
   "name": "python3"
  },
  "language_info": {
   "codemirror_mode": {
    "name": "ipython",
    "version": 3
   },
   "file_extension": ".py",
   "mimetype": "text/x-python",
   "name": "python",
   "nbconvert_exporter": "python",
   "pygments_lexer": "ipython3",
   "version": "3.7.4"
  }
 },
 "nbformat": 4,
 "nbformat_minor": 4
}
