{
 "cells": [
  {
   "cell_type": "code",
   "execution_count": null,
   "metadata": {},
   "outputs": [],
   "source": [
    "root_location = '../../'\n",
    "import sys\n",
    "sys.path.append(root_location)\n",
    "\n",
    "from os import listdir\n",
    "import pandas as pd\n",
    "\n",
    "from src.tools.pre_processing import enrich_data"
   ]
  },
  {
   "cell_type": "markdown",
   "metadata": {},
   "source": [
    "# Parameters"
   ]
  },
  {
   "cell_type": "code",
   "execution_count": null,
   "metadata": {},
   "outputs": [],
   "source": [
    "input_folder = (\n",
    "    root_location + 'data/samples/',\n",
    "    root_location + 'data/raw_csv/'\n",
    ")\n",
    "\n",
    "output_folder = root_location + 'data/enriched/'"
   ]
  },
  {
   "cell_type": "markdown",
   "metadata": {},
   "source": [
    "# Derived parameters"
   ]
  },
  {
   "cell_type": "code",
   "execution_count": null,
   "metadata": {},
   "outputs": [],
   "source": [
    "input_file_names = [\n",
    "    folder + file\n",
    "    for folder in input_folder\n",
    "    for file in listdir(folder)\n",
    "]"
   ]
  },
  {
   "cell_type": "markdown",
   "metadata": {},
   "source": [
    "# Enrich data (and save)"
   ]
  },
  {
   "cell_type": "code",
   "execution_count": null,
   "metadata": {},
   "outputs": [],
   "source": [
    "%%time\n",
    "\n",
    "for input_file_name_with_path in input_file_names:\n",
    "    df = pd.read_csv(input_file_name_with_path)\n",
    "    df = enrich_data(df)\n",
    "    input_file_name = input_file_name_with_path.split('/')[-1]\n",
    "    df.to_csv(output_folder + input_file_name)"
   ]
  },
  {
   "cell_type": "code",
   "execution_count": null,
   "metadata": {},
   "outputs": [],
   "source": []
  }
 ],
 "metadata": {
  "kernelspec": {
   "display_name": "Python 3",
   "language": "python",
   "name": "python3"
  },
  "language_info": {
   "codemirror_mode": {
    "name": "ipython",
    "version": 3
   },
   "file_extension": ".py",
   "mimetype": "text/x-python",
   "name": "python",
   "nbconvert_exporter": "python",
   "pygments_lexer": "ipython3",
   "version": "3.7.4"
  }
 },
 "nbformat": 4,
 "nbformat_minor": 4
}
