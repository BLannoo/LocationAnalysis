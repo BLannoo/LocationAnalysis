{
 "cells": [
  {
   "cell_type": "code",
   "execution_count": null,
   "metadata": {},
   "outputs": [],
   "source": [
    "from os import listdir\n",
    "import pandas as pd"
   ]
  },
  {
   "cell_type": "markdown",
   "metadata": {},
   "source": [
    "# Parameters"
   ]
  },
  {
   "cell_type": "code",
   "execution_count": null,
   "metadata": {},
   "outputs": [],
   "source": [
    "root_location = '../../'\n",
    "\n",
    "input_folder = (\n",
    "    root_location + 'data/samples/',\n",
    "    root_location + 'data/raw_csv/'\n",
    ")\n",
    "\n",
    "output_folder = root_location + 'data/enriched/'"
   ]
  },
  {
   "cell_type": "markdown",
   "metadata": {},
   "source": [
    "# Derived parameters"
   ]
  },
  {
   "cell_type": "code",
   "execution_count": null,
   "metadata": {},
   "outputs": [],
   "source": [
    "input_file_names = [\n",
    "    folder + file\n",
    "    for folder in input_folder\n",
    "    for file in listdir(folder)\n",
    "]"
   ]
  },
  {
   "cell_type": "markdown",
   "metadata": {},
   "source": [
    "# Enrich data (and save)"
   ]
  },
  {
   "cell_type": "code",
   "execution_count": null,
   "metadata": {},
   "outputs": [],
   "source": [
    "def enrich_data(df: pd.DataFrame) -> pd.DataFrame:\n",
    "    df[\"date\"] = pd.to_datetime(df.timestampMs, unit=\"ms\")\n",
    "    df[\"year\"] = pd.DatetimeIndex(df.date).year\n",
    "    df[\"month\"] = pd.DatetimeIndex(df.date).month\n",
    "    df[\"day\"] = pd.DatetimeIndex(df.date).day\n",
    "    df[\"hour\"] = pd.DatetimeIndex(df.date).hour\n",
    "\n",
    "    df[\"time_of_day\"] = (df.timestampMs % (1000 * 60 * 60 * 24)) / (1000 * 60 * 60)\n",
    "    df[\"duration\"] = (df.timestampMs.shift(1) - df.timestampMs.shift(-1)) / 2 / (1000 * 60 * 60)\n",
    "\n",
    "    return df"
   ]
  },
  {
   "cell_type": "code",
   "execution_count": null,
   "metadata": {},
   "outputs": [],
   "source": [
    "for input_file_name_with_path in input_file_names:\n",
    "    df = pd.read_csv(input_file_name_with_path)\n",
    "    df = enrich_data(df)\n",
    "    input_file_name = input_file_name_with_path.split('/')[-1]\n",
    "    df.to_csv(output_folder + input_file_name)"
   ]
  },
  {
   "cell_type": "code",
   "execution_count": null,
   "metadata": {},
   "outputs": [],
   "source": []
  }
 ],
 "metadata": {
  "kernelspec": {
   "display_name": "Python 3",
   "language": "python",
   "name": "python3"
  },
  "language_info": {
   "codemirror_mode": {
    "name": "ipython",
    "version": 3
   },
   "file_extension": ".py",
   "mimetype": "text/x-python",
   "name": "python",
   "nbconvert_exporter": "python",
   "pygments_lexer": "ipython3",
   "version": "3.7.4"
  }
 },
 "nbformat": 4,
 "nbformat_minor": 4
}
