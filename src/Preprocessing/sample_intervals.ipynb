{
 "cells": [
  {
   "cell_type": "code",
   "execution_count": null,
   "metadata": {},
   "outputs": [],
   "source": [
    "root_location = '../../'\n",
    "import sys\n",
    "sys.path.append(root_location)\n",
    "\n",
    "import pandas as pd\n",
    "from src.tools import utils"
   ]
  },
  {
   "cell_type": "markdown",
   "metadata": {},
   "source": [
    "# Parameter"
   ]
  },
  {
   "cell_type": "code",
   "execution_count": null,
   "metadata": {},
   "outputs": [],
   "source": [
    "file_name_in = root_location + 'data/processed/full.csv'\n",
    "\n",
    "intervals = (\n",
    "    # ISO 8601: 2020-02-17T17:22:45\n",
    "    (\n",
    "        '2018-01-01T00:00:00',\n",
    "        '2018-12-31T23:59:59',\n",
    "        'sample_2018.csv'\n",
    "    ),\n",
    "    (\n",
    "        '2019-01-01T00:00:00',\n",
    "        '2019-12-31T23:59:59',\n",
    "        'sample_2019.csv'\n",
    "    ),\n",
    "    (\n",
    "        '2020-01-01T00:00:00',\n",
    "        '2020-01-31T23:59:59',\n",
    "        'sample_2020_01.csv'\n",
    "    ),\n",
    ")\n",
    "output_folder = root_location + 'data/processed/'"
   ]
  },
  {
   "cell_type": "markdown",
   "metadata": {},
   "source": [
    "# Load data"
   ]
  },
  {
   "cell_type": "code",
   "execution_count": null,
   "metadata": {},
   "outputs": [],
   "source": [
    "%%time\n",
    "\n",
    "df = pd.read_csv(file_name_in)"
   ]
  },
  {
   "cell_type": "markdown",
   "metadata": {},
   "source": [
    "# Save all requested samples"
   ]
  },
  {
   "cell_type": "code",
   "execution_count": null,
   "metadata": {},
   "outputs": [],
   "source": [
    "%%time\n",
    "\n",
    "for start_date, end_date, file_name_output in intervals:\n",
    "    df[\n",
    "        (utils.as_timestampMs(start_date) <= df['timestampMs'])\n",
    "        &\n",
    "        (df['timestampMs'] <= utils.as_timestampMs(end_date))\n",
    "    ].to_csv(output_folder + file_name_output, index=False)"
   ]
  },
  {
   "cell_type": "code",
   "execution_count": null,
   "metadata": {},
   "outputs": [],
   "source": []
  }
 ],
 "metadata": {
  "kernelspec": {
   "display_name": "Python 3",
   "language": "python",
   "name": "python3"
  },
  "language_info": {
   "codemirror_mode": {
    "name": "ipython",
    "version": 3
   },
   "file_extension": ".py",
   "mimetype": "text/x-python",
   "name": "python",
   "nbconvert_exporter": "python",
   "pygments_lexer": "ipython3",
   "version": "3.7.4"
  }
 },
 "nbformat": 4,
 "nbformat_minor": 4
}
