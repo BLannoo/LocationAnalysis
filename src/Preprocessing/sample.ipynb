{
 "cells": [
  {
   "cell_type": "code",
   "execution_count": null,
   "metadata": {},
   "outputs": [],
   "source": [
    "root_location = '../../'\n",
    "import sys\n",
    "sys.path.append(root_location)\n",
    "\n",
    "import pandas as pd\n",
    "from src.tools import utils"
   ]
  },
  {
   "cell_type": "markdown",
   "metadata": {},
   "source": [
    "# Parameter"
   ]
  },
  {
   "cell_type": "code",
   "execution_count": null,
   "metadata": {},
   "outputs": [],
   "source": [
    "file_name_in = root_location + 'data/processed/enriched.csv'\n",
    "\n",
    "samples = (\n",
    "    {\n",
    "        'year': 2018\n",
    "    },\n",
    "    {\n",
    "        'year': 2019\n",
    "    },\n",
    "    {\n",
    "        'year': 2020,\n",
    "        'month': 1\n",
    "    },\n",
    ")\n",
    "output_folder = root_location + 'data/samples/'"
   ]
  },
  {
   "cell_type": "markdown",
   "metadata": {},
   "source": [
    "# Load data"
   ]
  },
  {
   "cell_type": "code",
   "execution_count": null,
   "metadata": {},
   "outputs": [],
   "source": [
    "%%time\n",
    "\n",
    "df = pd.read_csv(file_name_in)"
   ]
  },
  {
   "cell_type": "code",
   "execution_count": null,
   "metadata": {},
   "outputs": [],
   "source": [
    "df.head()"
   ]
  },
  {
   "cell_type": "markdown",
   "metadata": {},
   "source": [
    "# Save all requested samples"
   ]
  },
  {
   "cell_type": "code",
   "execution_count": null,
   "metadata": {},
   "outputs": [],
   "source": [
    "%%time\n",
    "\n",
    "for sample in samples:\n",
    "    selection = True\n",
    "    file_name = ''\n",
    "    for key, value in sample.items():\n",
    "        selection = selection & (df[key] == value)\n",
    "        file_name += '_' + str(key) + '_' + str(value)\n",
    "    df[selection].to_csv(\n",
    "        output_folder + file_name[1:] + '.csv',\n",
    "        index=False\n",
    "    )"
   ]
  },
  {
   "cell_type": "code",
   "execution_count": null,
   "metadata": {},
   "outputs": [],
   "source": []
  }
 ],
 "metadata": {
  "kernelspec": {
   "display_name": "Python 3",
   "language": "python",
   "name": "python3"
  },
  "language_info": {
   "codemirror_mode": {
    "name": "ipython",
    "version": 3
   },
   "file_extension": ".py",
   "mimetype": "text/x-python",
   "name": "python",
   "nbconvert_exporter": "python",
   "pygments_lexer": "ipython3",
   "version": "3.7.3"
  }
 },
 "nbformat": 4,
 "nbformat_minor": 4
}
