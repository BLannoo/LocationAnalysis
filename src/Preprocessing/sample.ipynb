{
 "cells": [
  {
   "cell_type": "code",
   "execution_count": 1,
   "metadata": {},
   "outputs": [],
   "source": [
    "# auto format code at cell execution\n",
    "%load_ext lab_black\n",
    "\n",
    "root_location = \"../../\"\n",
    "import sys\n",
    "\n",
    "sys.path.append(root_location)\n",
    "\n",
    "import pandas as pd\n",
    "from src.tools import utils"
   ]
  },
  {
   "cell_type": "markdown",
   "metadata": {},
   "source": [
    "# Parameter"
   ]
  },
  {
   "cell_type": "code",
   "execution_count": 2,
   "metadata": {},
   "outputs": [],
   "source": [
    "file_name_in = root_location + \"data/processed/enriched.csv\"\n",
    "\n",
    "samples = (\n",
    "    {\"year\": 2018},\n",
    "    {\"year\": 2019},\n",
    "    {\"year\": 2020, \"month\": 1},\n",
    "    {\"year\": 2018, \"country\": \"Belgium\"},\n",
    ")\n",
    "output_folder = root_location + \"data/samples/\""
   ]
  },
  {
   "cell_type": "markdown",
   "metadata": {},
   "source": [
    "# Load data"
   ]
  },
  {
   "cell_type": "code",
   "execution_count": 3,
   "metadata": {},
   "outputs": [
    {
     "name": "stdout",
     "output_type": "stream",
     "text": [
      "CPU times: user 3.97 s, sys: 366 ms, total: 4.34 s\n",
      "Wall time: 4.36 s\n"
     ]
    }
   ],
   "source": [
    "%%time\n",
    "\n",
    "df = pd.read_csv(file_name_in)"
   ]
  },
  {
   "cell_type": "markdown",
   "metadata": {},
   "source": [
    "# Save all requested samples"
   ]
  },
  {
   "cell_type": "code",
   "execution_count": 4,
   "metadata": {},
   "outputs": [
    {
     "name": "stdout",
     "output_type": "stream",
     "text": [
      "CPU times: user 8.87 s, sys: 563 ms, total: 9.43 s\n",
      "Wall time: 9.73 s\n"
     ]
    }
   ],
   "source": [
    "%%time\n",
    "\n",
    "for sample in samples:\n",
    "    selection = True\n",
    "    file_name = \"\"\n",
    "    for key, value in sample.items():\n",
    "        selection = selection & (df[key] == value)\n",
    "        file_name += \"_\" + str(key) + \"_\" + str(value)\n",
    "    df[selection].to_csv(output_folder + file_name[1:] + \".csv\", index=False)"
   ]
  },
  {
   "cell_type": "code",
   "execution_count": null,
   "metadata": {},
   "outputs": [],
   "source": []
  }
 ],
 "metadata": {
  "kernelspec": {
   "display_name": "Python 3",
   "language": "python",
   "name": "python3"
  },
  "language_info": {
   "codemirror_mode": {
    "name": "ipython",
    "version": 3
   },
   "file_extension": ".py",
   "mimetype": "text/x-python",
   "name": "python",
   "nbconvert_exporter": "python",
   "pygments_lexer": "ipython3",
   "version": "3.7.3"
  }
 },
 "nbformat": 4,
 "nbformat_minor": 4
}
