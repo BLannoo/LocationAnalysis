{
 "cells": [
  {
   "cell_type": "code",
   "execution_count": null,
   "metadata": {},
   "outputs": [],
   "source": [
    "import matplotlib.pyplot as plt\n",
    "import matplotlib as mpl\n",
    "\n",
    "import utils\n",
    "\n",
    "%matplotlib inline"
   ]
  },
  {
   "cell_type": "code",
   "execution_count": null,
   "metadata": {},
   "outputs": [],
   "source": [
    "%time\n",
    "df = utils.load_data(\"../data/LocationHistory2018.json\")"
   ]
  },
  {
   "cell_type": "code",
   "execution_count": null,
   "metadata": {},
   "outputs": [],
   "source": [
    "df.hist(column=['time_of_day'], bins=100)"
   ]
  },
  {
   "cell_type": "code",
   "execution_count": null,
   "metadata": {},
   "outputs": [],
   "source": [
    "utils.show_data_density(df, \"Full data\")\n",
    "utils.show_data_density(df, \"Georgia\", 410_000_000, 470_000_000, 410_000_000, 430_000_000)\n",
    "utils.show_data_density(df, \"Tbilisi\", 447_200_000, 448_800_000, 410_000_000, 418_500_000)\n",
    "utils.show_data_density(df, \"Tbilisi core\", 447_400_000, 448_200_000, 410_000_000, 417_400_000)\n",
    "utils.show_data_density(df, \"Lili's\", 447_600_000, 447_850_000, 417_080_000, 417_200_000)\n",
    "utils.show_data_density(df, \"Europe\", 10_000_000, 400_000_000, 400_000_000, 700_000_000)\n",
    "utils.show_data_density(df, \"Belgium\", 10_000_000, 70_000_000, 505_000_000, 515_000_000)\n",
    "utils.show_data_density(df, \"Brabant\", 42_000_000, 49_000_000, 507_000_000, 510_000_000)\n",
    "utils.show_data_density(df, \"Brussel\", 42_750_000, 45_000_000, 508_000_000, 509_250_000)\n",
    "utils.show_data_density(df, \"Leuven\", 46_700_000, 47_400_000, 508_400_000, 509_000_000)\n",
    "utils.show_data_density(df, \"Leuven centrum\", 46_800_000, 47_200_000, 508_605_000, 508_900_000)\n",
    "utils.show_data_density(df, \"Bankstraat\", 46_870_000, 46_940_000, 508_700_000, 508_800_000)\n",
    "utils.show_data_density(df, \"Alf. Delaunois.\", 47_100_000, 47_200_000, 508_700_000, 508_750_000)\n",
    "utils.show_data_density(df, \"Kunlabora\", 47_120_000, 47_150_000, 508_830_000, 508_840_000)"
   ]
  },
  {
   "cell_type": "code",
   "execution_count": null,
   "metadata": {},
   "outputs": [],
   "source": [
    "for i in range(1, 7):\n",
    "    utils.plot_single_day(df, 2018, 7, i)"
   ]
  },
  {
   "cell_type": "code",
   "execution_count": null,
   "metadata": {},
   "outputs": [],
   "source": []
  },
  {
   "cell_type": "code",
   "execution_count": null,
   "metadata": {},
   "outputs": [],
   "source": [
    "import imp\n",
    "imp.reload(utils)"
   ]
  },
  {
   "cell_type": "code",
   "execution_count": null,
   "metadata": {},
   "outputs": [],
   "source": []
  }
 ],
 "metadata": {
  "kernelspec": {
   "display_name": "Python 3",
   "language": "python",
   "name": "python3"
  },
  "language_info": {
   "codemirror_mode": {
    "name": "ipython",
    "version": 3
   },
   "file_extension": ".py",
   "mimetype": "text/x-python",
   "name": "python",
   "nbconvert_exporter": "python",
   "pygments_lexer": "ipython3",
   "version": "3.6.4"
  }
 },
 "nbformat": 4,
 "nbformat_minor": 2
}
