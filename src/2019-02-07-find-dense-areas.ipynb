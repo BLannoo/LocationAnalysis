{
 "cells": [
  {
   "cell_type": "code",
   "execution_count": null,
   "metadata": {},
   "outputs": [],
   "source": [
    "import utils\n",
    "import matplotlib.pyplot as plt\n",
    "import pandas as pd\n",
    "import geopandas as gpd\n",
    "import matplotlib as mpl\n",
    "import numpy as np\n",
    "\n",
    "%matplotlib inline"
   ]
  },
  {
   "cell_type": "code",
   "execution_count": null,
   "metadata": {},
   "outputs": [],
   "source": [
    "%time\n",
    "gdf = utils.load_geo_data(\"../data/LocationHistory2018.json\")"
   ]
  },
  {
   "cell_type": "code",
   "execution_count": null,
   "metadata": {},
   "outputs": [],
   "source": [
    "world = gpd.read_file(gpd.datasets.get_path(\"naturalearth_lowres\"))\n",
    "world.crs = {\"init\" :\"epsg:4326\"}\n",
    "gdf_with_countries = gpd.sjoin(gdf, world, how=\"inner\", op=\"intersects\")"
   ]
  },
  {
   "cell_type": "code",
   "execution_count": null,
   "metadata": {},
   "outputs": [],
   "source": [
    "gdf_belgium = gdf_with_countries[gdf_with_countries[\"name\"] == \"Belgium\"]"
   ]
  },
  {
   "cell_type": "code",
   "execution_count": null,
   "metadata": {},
   "outputs": [],
   "source": [
    "%time\n",
    "\n",
    "count, x, y, img = plt.hist2d(\n",
    "        x=gdf_belgium.longitudeE7,\n",
    "        y=gdf_belgium.latitudeE7,\n",
    "        bins=10000,\n",
    "        norm=mpl.colors.LogNorm()\n",
    "    )"
   ]
  },
  {
   "cell_type": "code",
   "execution_count": null,
   "metadata": {},
   "outputs": [],
   "source": [
    "sum(sum(count>5000))"
   ]
  },
  {
   "cell_type": "code",
   "execution_count": null,
   "metadata": {},
   "outputs": [],
   "source": [
    "%time\n",
    "\n",
    "locations = np.where(count>5000)\n",
    "for ix, iy in zip(locations[0], locations[1]):\n",
    "    selection = gdf[\n",
    "        (gdf.longitudeE7 > x[ix])\n",
    "        & (gdf.longitudeE7 < x[ix+1])\n",
    "        & (gdf.latitudeE7 > y[iy])\n",
    "        & (gdf.latitudeE7 < y[iy+1])\n",
    "        ]\n",
    "    utils.show_data_over_roads(selection)"
   ]
  },
  {
   "cell_type": "code",
   "execution_count": null,
   "metadata": {},
   "outputs": [],
   "source": []
  }
 ],
 "metadata": {
  "kernelspec": {
   "display_name": "Python 3",
   "language": "python",
   "name": "python3"
  },
  "language_info": {
   "codemirror_mode": {
    "name": "ipython",
    "version": 3
   },
   "file_extension": ".py",
   "mimetype": "text/x-python",
   "name": "python",
   "nbconvert_exporter": "python",
   "pygments_lexer": "ipython3",
   "version": "3.6.4"
  }
 },
 "nbformat": 4,
 "nbformat_minor": 2
}
