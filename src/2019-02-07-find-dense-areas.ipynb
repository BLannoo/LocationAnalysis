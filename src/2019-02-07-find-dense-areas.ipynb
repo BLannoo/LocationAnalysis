{
 "cells": [
  {
   "cell_type": "code",
   "execution_count": null,
   "metadata": {},
   "outputs": [],
   "source": [
    "import utils\n",
    "import matplotlib.pyplot as plt\n",
    "import pandas as pd\n",
    "import geopandas as gpd\n",
    "import matplotlib as mpl\n",
    "import numpy as np\n",
    "\n",
    "%matplotlib inline"
   ]
  },
  {
   "cell_type": "code",
   "execution_count": null,
   "metadata": {},
   "outputs": [],
   "source": [
    "%time\n",
    "df = utils.load_primary_data(\"../data/LocationHistory2018.json\")\n",
    "gdf_belgium = utils.filter_points_in_belgium(df)"
   ]
  },
  {
   "cell_type": "code",
   "execution_count": null,
   "metadata": {},
   "outputs": [],
   "source": [
    "%time\n",
    "\n",
    "count, x, y, _ = plt.hist2d(\n",
    "        x=gdf_belgium.longitudeE7,\n",
    "        y=gdf_belgium.latitudeE7,\n",
    "        bins=3000,\n",
    "        norm=mpl.colors.LogNorm()\n",
    "    )"
   ]
  },
  {
   "cell_type": "code",
   "execution_count": null,
   "metadata": {},
   "outputs": [],
   "source": [
    "LIMIT = 300\n",
    "sum(sum(count>LIMIT))"
   ]
  },
  {
   "cell_type": "code",
   "execution_count": null,
   "metadata": {},
   "outputs": [],
   "source": [
    "%time\n",
    "\n",
    "locations = np.where(count>LIMIT)\n",
    "for ix, iy in zip(locations[0], locations[1]):\n",
    "    selection = gdf_belgium[\n",
    "        (gdf_belgium.longitudeE7 > x[ix])\n",
    "        & (gdf_belgium.longitudeE7 < x[ix+1])\n",
    "        & (gdf_belgium.latitudeE7 > y[iy])\n",
    "        & (gdf_belgium.latitudeE7 < y[iy+1])\n",
    "        ]\n",
    "    utils.show_data_over_roads(selection)"
   ]
  },
  {
   "cell_type": "code",
   "execution_count": null,
   "metadata": {},
   "outputs": [],
   "source": [
    "utils.show_data_over_roads(\n",
    "    utils.transform_to_geo_data(\n",
    "        pd.DataFrame({\"longitudeE7\": x[locations[0]], \"latitudeE7\": y[locations[1]]})\n",
    "    )\n",
    ")"
   ]
  },
  {
   "cell_type": "code",
   "execution_count": null,
   "metadata": {},
   "outputs": [],
   "source": [
    "locations"
   ]
  },
  {
   "cell_type": "code",
   "execution_count": null,
   "metadata": {},
   "outputs": [],
   "source": [
    "{\"longitudeE7\": x[locations[0]], \"latitudeE7\": y[locations[1]]}"
   ]
  },
  {
   "cell_type": "code",
   "execution_count": null,
   "metadata": {},
   "outputs": [],
   "source": []
  }
 ],
 "metadata": {
  "kernelspec": {
   "display_name": "Python 3",
   "language": "python",
   "name": "python3"
  },
  "language_info": {
   "codemirror_mode": {
    "name": "ipython",
    "version": 3
   },
   "file_extension": ".py",
   "mimetype": "text/x-python",
   "name": "python",
   "nbconvert_exporter": "python",
   "pygments_lexer": "ipython3",
   "version": "3.6.4"
  }
 },
 "nbformat": 4,
 "nbformat_minor": 2
}
