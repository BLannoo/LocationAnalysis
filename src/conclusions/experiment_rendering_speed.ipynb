{
 "cells": [
  {
   "cell_type": "code",
   "execution_count": null,
   "metadata": {},
   "outputs": [],
   "source": [
    "# auto format code at cell execution\n",
    "%load_ext lab_black\n",
    "\n",
    "root_location = \"../../\"\n",
    "import sys\n",
    "\n",
    "import matplotlib.pyplot as plt\n",
    "\n",
    "sys.path.append(root_location)\n",
    "\n",
    "from src.tools.pre_processing import read_csv_as_geopandas\n",
    "from src.tools.visualising import (\n",
    "    load_or_get_belgium_roads,\n",
    "    determine_extrema_with_border,\n",
    ")"
   ]
  },
  {
   "cell_type": "markdown",
   "metadata": {},
   "source": [
    "# Parameters"
   ]
  },
  {
   "cell_type": "code",
   "execution_count": null,
   "metadata": {},
   "outputs": [],
   "source": [
    "input_file_name = root_location + \"data/samples/year_2018_country_Belgium.csv\""
   ]
  },
  {
   "cell_type": "markdown",
   "metadata": {},
   "source": [
    "# Load data"
   ]
  },
  {
   "cell_type": "code",
   "execution_count": null,
   "metadata": {},
   "outputs": [],
   "source": [
    "gdf = read_csv_as_geopandas(input_file_name)"
   ]
  },
  {
   "cell_type": "markdown",
   "metadata": {},
   "source": [
    "# Select 1 day of data (2018/12/01)"
   ]
  },
  {
   "cell_type": "code",
   "execution_count": null,
   "metadata": {},
   "outputs": [],
   "source": [
    "selection = gdf[(gdf.month == 12) & (gdf.day == 1)]"
   ]
  },
  {
   "cell_type": "markdown",
   "metadata": {},
   "source": [
    "# Render all roads of Belgium"
   ]
  },
  {
   "cell_type": "code",
   "execution_count": null,
   "metadata": {},
   "outputs": [],
   "source": [
    "%%time\n",
    "\n",
    "(\n",
    "    x_max_with_border,\n",
    "    x_min_with_border,\n",
    "    y_max_with_border,\n",
    "    y_min_with_border,\n",
    ") = determine_extrema_with_border(selection)\n",
    "\n",
    "ax = load_or_get_belgium_roads(repository_root_location=root_location).plot(\n",
    "    edgecolor=\"gray\", figsize=(10, 6), zorder=-1\n",
    ")\n",
    "selection.plot(ax=ax, marker=\"o\", color=\"red\", markersize=15, zorder=0)\n",
    "\n",
    "# plt.xlim([x_min_with_border, x_max_with_border])\n",
    "# plt.ylim([y_min_with_border, y_max_with_border])"
   ]
  },
  {
   "cell_type": "markdown",
   "metadata": {},
   "source": [
    "# Render only the roads that are near to the data"
   ]
  },
  {
   "cell_type": "code",
   "execution_count": null,
   "metadata": {},
   "outputs": [],
   "source": [
    "%%time\n",
    "\n",
    "(\n",
    "    x_max_with_border,\n",
    "    x_min_with_border,\n",
    "    y_max_with_border,\n",
    "    y_min_with_border,\n",
    ") = determine_extrema_with_border(selection)\n",
    "\n",
    "gdf_belgian_roads = load_or_get_belgium_roads(repository_root_location=root_location)\n",
    "\n",
    "ax = gdf_belgian_roads.cx[x_min_with_border:x_max_with_border, y_min_with_border:y_max_with_border].plot(\n",
    "    edgecolor=\"gray\", figsize=(10, 6), zorder=-1\n",
    ")\n",
    "selection.plot(ax=ax, marker=\"o\", color=\"red\", markersize=15, zorder=0)\n",
    "\n",
    "# plt.xlim([x_min_with_border, x_max_with_border])\n",
    "# plt.ylim([y_min_with_border, y_max_with_border])"
   ]
  },
  {
   "cell_type": "code",
   "execution_count": null,
   "metadata": {},
   "outputs": [],
   "source": []
  }
 ],
 "metadata": {
  "kernelspec": {
   "display_name": "Python 3",
   "language": "python",
   "name": "python3"
  },
  "language_info": {
   "codemirror_mode": {
    "name": "ipython",
    "version": 3
   },
   "file_extension": ".py",
   "mimetype": "text/x-python",
   "name": "python",
   "nbconvert_exporter": "python",
   "pygments_lexer": "ipython3",
   "version": "3.7.3"
  }
 },
 "nbformat": 4,
 "nbformat_minor": 4
}
