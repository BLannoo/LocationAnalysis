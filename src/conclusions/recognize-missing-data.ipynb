{
 "cells": [
  {
   "cell_type": "code",
   "execution_count": null,
   "metadata": {},
   "outputs": [],
   "source": [
    "# auto format code at cell execution\n",
    "%load_ext lab_black\n",
    "\n",
    "import matplotlib.pyplot as plt\n",
    "import pandas as pd\n",
    "\n",
    "%matplotlib inline"
   ]
  },
  {
   "cell_type": "markdown",
   "metadata": {},
   "source": [
    "# Summary (TL;DR)\n",
    "* duration > 3h are very rare (19 cases)\n",
    "* duration > 2h are rare (82 cases)\n",
    "* duration > 6min mostly during the night (and are mathematically the outliers)"
   ]
  },
  {
   "cell_type": "markdown",
   "metadata": {},
   "source": [
    "# Parameters"
   ]
  },
  {
   "cell_type": "code",
   "execution_count": null,
   "metadata": {},
   "outputs": [],
   "source": [
    "root_location = \"../../\"\n",
    "\n",
    "input_file_name = root_location + \"data/samples/year_2018.csv\""
   ]
  },
  {
   "cell_type": "markdown",
   "metadata": {},
   "source": [
    "# Load data"
   ]
  },
  {
   "cell_type": "code",
   "execution_count": null,
   "metadata": {},
   "outputs": [],
   "source": [
    "%%time\n",
    "\n",
    "df = pd.read_csv(input_file_name)"
   ]
  },
  {
   "cell_type": "markdown",
   "metadata": {},
   "source": [
    "# Analysis: What duration's are outliers?\n",
    "* fig1: somwhere between 2h and 4h\n",
    "* fig2: mathematically alot of outliers\n",
    "* fig3: from closer cut off seems 3h\n",
    "* fig4: mathematically outliers around 0.1h == 6min"
   ]
  },
  {
   "cell_type": "code",
   "execution_count": null,
   "metadata": {},
   "outputs": [],
   "source": [
    "plt.figure(figsize=(10, 8))\n",
    "\n",
    "plt.subplot(221)\n",
    "df.duration.hist(bins=300)\n",
    "plt.yscale(\"log\")\n",
    "\n",
    "plt.subplot(222)\n",
    "df.boxplot(column=\"duration\")\n",
    "\n",
    "plt.subplot(223)\n",
    "df[df.duration < 4].duration.hist(bins=50)\n",
    "plt.yscale(\"log\")\n",
    "\n",
    "plt.subplot(224)\n",
    "df.boxplot(column=\"duration\", showfliers=False)"
   ]
  },
  {
   "cell_type": "code",
   "execution_count": null,
   "metadata": {},
   "outputs": [],
   "source": [
    "for threshold in (4, 3, 2, 0.1):\n",
    "    outliers_count = len(df[df.duration > threshold])\n",
    "    print(f\"{outliers_count:6} outliers found for threshold {threshold}\")"
   ]
  },
  {
   "cell_type": "markdown",
   "metadata": {},
   "source": [
    "# When (time_of_day) do the outliers occur?"
   ]
  },
  {
   "cell_type": "code",
   "execution_count": null,
   "metadata": {},
   "outputs": [],
   "source": [
    "plt.figure(figsize=(10, 8))\n",
    "\n",
    "plt.subplot(221)\n",
    "df.time_of_day.hist(bins=96)\n",
    "plt.title(\"All data (mostly during the day)\")\n",
    "\n",
    "plt.subplot(222)\n",
    "df[df.duration > 2].time_of_day.hist(bins=24)\n",
    "plt.title(\"Visual outliers (2h)\")\n",
    "\n",
    "plt.subplot(223)\n",
    "df[df.duration > 0.1].time_of_day.hist(bins=96)\n",
    "plt.title(\"Mathematical outliers (0.1h)\")\n",
    "\n",
    "plt.subplot(224)\n",
    "df[df.duration > 15 / 60].time_of_day.hist(bins=96)\n",
    "plt.title(\"Duration > 15 min (mostly during the night)\")"
   ]
  },
  {
   "cell_type": "code",
   "execution_count": null,
   "metadata": {},
   "outputs": [],
   "source": []
  }
 ],
 "metadata": {
  "kernelspec": {
   "display_name": "Python 3",
   "language": "python",
   "name": "python3"
  },
  "language_info": {
   "codemirror_mode": {
    "name": "ipython",
    "version": 3
   },
   "file_extension": ".py",
   "mimetype": "text/x-python",
   "name": "python",
   "nbconvert_exporter": "python",
   "pygments_lexer": "ipython3",
   "version": "3.7.3"
  }
 },
 "nbformat": 4,
 "nbformat_minor": 4
}
