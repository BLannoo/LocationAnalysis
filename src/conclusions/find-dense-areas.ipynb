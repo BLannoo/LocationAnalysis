{
 "cells": [
  {
   "cell_type": "code",
   "execution_count": null,
   "metadata": {},
   "outputs": [],
   "source": [
    "# auto format code at cell execution\n",
    "%load_ext lab_black\n",
    "\n",
    "root_location = \"../../\"\n",
    "import sys\n",
    "\n",
    "sys.path.append(root_location)\n",
    "\n",
    "import matplotlib.pyplot as plt\n",
    "import pandas as pd\n",
    "import geopandas as gpd\n",
    "import matplotlib as mpl\n",
    "import numpy as np\n",
    "\n",
    "from src.tools.pre_processing import read_csv_as_geopandas, transform_to_geo_data\n",
    "from src.tools.visualising import show_data_over_roads\n",
    "\n",
    "%matplotlib inline"
   ]
  },
  {
   "cell_type": "markdown",
   "metadata": {},
   "source": [
    "# Parameters"
   ]
  },
  {
   "cell_type": "code",
   "execution_count": null,
   "metadata": {},
   "outputs": [],
   "source": [
    "input_file_name = root_location + \"data/samples/year_2018_country_Belgium.csv\""
   ]
  },
  {
   "cell_type": "markdown",
   "metadata": {},
   "source": [
    "# Load data"
   ]
  },
  {
   "cell_type": "code",
   "execution_count": null,
   "metadata": {},
   "outputs": [],
   "source": [
    "%%time\n",
    "\n",
    "gdf = read_csv_as_geopandas(input_file_name)"
   ]
  },
  {
   "cell_type": "markdown",
   "metadata": {},
   "source": [
    "# Visualisation"
   ]
  },
  {
   "cell_type": "markdown",
   "metadata": {},
   "source": [
    "## Heatmap to find dense areas"
   ]
  },
  {
   "cell_type": "code",
   "execution_count": null,
   "metadata": {},
   "outputs": [],
   "source": [
    "%%time\n",
    "\n",
    "count, x, y, _ = plt.hist2d(\n",
    "        x=gdf.longitudeE7,\n",
    "        y=gdf.latitudeE7,\n",
    "        bins=3000,\n",
    "        norm=mpl.colors.LogNorm()\n",
    "    )"
   ]
  },
  {
   "cell_type": "code",
   "execution_count": null,
   "metadata": {},
   "outputs": [],
   "source": [
    "LIMIT = 300\n",
    "sum(sum(count > LIMIT))"
   ]
  },
  {
   "cell_type": "code",
   "execution_count": null,
   "metadata": {},
   "outputs": [],
   "source": [
    "def select_and_render(ix, iy, ax=None, gdf=gdf):\n",
    "    selection = gdf[\n",
    "        (gdf.longitudeE7 > x[ix])\n",
    "        & (gdf.longitudeE7 < x[ix + 1])\n",
    "        & (gdf.latitudeE7 > y[iy])\n",
    "        & (gdf.latitudeE7 < y[iy + 1])\n",
    "    ]\n",
    "    show_data_over_roads(selection, ax=ax, repository_root_location=root_location)"
   ]
  },
  {
   "cell_type": "code",
   "execution_count": null,
   "metadata": {},
   "outputs": [],
   "source": [
    "locations = tuple(zip(*np.where(count > LIMIT)))"
   ]
  },
  {
   "cell_type": "markdown",
   "metadata": {},
   "source": [
    "## 1 Example (example 0 is in the middle of nowhere)"
   ]
  },
  {
   "cell_type": "code",
   "execution_count": null,
   "metadata": {},
   "outputs": [],
   "source": [
    "%%time\n",
    "select_and_render(*locations[1])"
   ]
  },
  {
   "cell_type": "markdown",
   "metadata": {},
   "source": [
    "## Rest of the examples\n",
    "(sqrt_num_figs = 2) demonstrates what this does in 27s  \n",
    "(sqrt_num_figs = 6) shows all (30) cases in 10min"
   ]
  },
  {
   "cell_type": "code",
   "execution_count": null,
   "metadata": {},
   "outputs": [],
   "source": [
    "%%time\n",
    "\n",
    "sqrt_num_figs = 2\n",
    "\n",
    "fig, axes = plt.subplots(sqrt_num_figs, sqrt_num_figs, figsize=(5 * sqrt_num_figs, 4 * sqrt_num_figs))\n",
    "\n",
    "for (fig_num, (ix, iy)) in enumerate(locations[:sqrt_num_figs**2]):\n",
    "    print(f\"start rendering figure {fig_num}\")\n",
    "    %time select_and_render(ix, iy, axes[fig_num // sqrt_num_figs][fig_num % sqrt_num_figs])\n",
    "    print(f\"done rendering figure {fig_num}\")"
   ]
  },
  {
   "cell_type": "markdown",
   "metadata": {},
   "source": [
    "## Dense locations on Belgian map"
   ]
  },
  {
   "cell_type": "code",
   "execution_count": null,
   "metadata": {},
   "outputs": [],
   "source": [
    "fig, ax = plt.subplots()\n",
    "\n",
    "show_data_over_roads(\n",
    "    transform_to_geo_data(\n",
    "        pd.DataFrame(\n",
    "            {\n",
    "                \"longitudeE7\": x[[loc[0] for loc in locations]],\n",
    "                \"latitudeE7\": y[[loc[1] for loc in locations]],\n",
    "            }\n",
    "        )\n",
    "    ),\n",
    "    ax=ax,\n",
    "    repository_root_location=root_location,\n",
    ")"
   ]
  },
  {
   "cell_type": "markdown",
   "metadata": {},
   "source": [
    "## Coordinates of locations for checking on google maps"
   ]
  },
  {
   "cell_type": "code",
   "execution_count": null,
   "metadata": {},
   "outputs": [],
   "source": [
    "tuple(\n",
    "    zip(\n",
    "        y[[loc[1] for loc in locations]] / 10_000_000,\n",
    "        x[[loc[0] for loc in locations]] / 10_000_000,\n",
    "    )\n",
    ")"
   ]
  },
  {
   "cell_type": "code",
   "execution_count": null,
   "metadata": {},
   "outputs": [],
   "source": []
  }
 ],
 "metadata": {
  "kernelspec": {
   "display_name": "Python 3",
   "language": "python",
   "name": "python3"
  },
  "language_info": {
   "codemirror_mode": {
    "name": "ipython",
    "version": 3
   },
   "file_extension": ".py",
   "mimetype": "text/x-python",
   "name": "python",
   "nbconvert_exporter": "python",
   "pygments_lexer": "ipython3",
   "version": "3.7.3"
  }
 },
 "nbformat": 4,
 "nbformat_minor": 4
}
