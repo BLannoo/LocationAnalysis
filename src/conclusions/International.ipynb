{
 "cells": [
  {
   "cell_type": "code",
   "execution_count": null,
   "metadata": {},
   "outputs": [],
   "source": [
    "# auto format code at cell execution\n",
    "%load_ext lab_black\n",
    "\n",
    "root_location = \"../../\"\n",
    "import sys\n",
    "\n",
    "sys.path.append(root_location)\n",
    "\n",
    "import pandas as pd\n",
    "import geopandas as gpd\n",
    "import matplotlib.pyplot as plt\n",
    "\n",
    "from src.tools.pre_processing import transform_to_geo_data\n",
    "\n",
    "%matplotlib inline"
   ]
  },
  {
   "cell_type": "markdown",
   "metadata": {},
   "source": [
    "# Parameters"
   ]
  },
  {
   "cell_type": "code",
   "execution_count": null,
   "metadata": {},
   "outputs": [],
   "source": [
    "input_file_name = root_location + \"data/samples/year_2018.csv\""
   ]
  },
  {
   "cell_type": "markdown",
   "metadata": {},
   "source": [
    "# Load data"
   ]
  },
  {
   "cell_type": "code",
   "execution_count": null,
   "metadata": {},
   "outputs": [],
   "source": [
    "%%time\n",
    "\n",
    "world = gpd.read_file(gpd.datasets.get_path(\"naturalearth_lowres\"))"
   ]
  },
  {
   "cell_type": "code",
   "execution_count": null,
   "metadata": {},
   "outputs": [],
   "source": [
    "%%time\n",
    "\n",
    "gdf = transform_to_geo_data(pd.read_csv(input_file_name))"
   ]
  },
  {
   "cell_type": "markdown",
   "metadata": {},
   "source": [
    "# Show gps data against world map"
   ]
  },
  {
   "cell_type": "code",
   "execution_count": null,
   "metadata": {},
   "outputs": [],
   "source": [
    "%%time\n",
    "\n",
    "gdf.plot(\n",
    "    ax=world.plot(facecolor=\"lightgray\", edgecolor=\"gray\", figsize=(10, 6)),\n",
    "    marker=\"o\",\n",
    "    color=\"red\",\n",
    "    markersize=15,\n",
    ")\n",
    "\n",
    "bounds = gdf.geometry.bounds\n",
    "\n",
    "plt.xlim([bounds.minx.min() - 5, bounds.maxx.max() + 5])\n",
    "plt.ylim([bounds.miny.min() - 5, bounds.maxy.max() + 5])"
   ]
  },
  {
   "cell_type": "markdown",
   "metadata": {},
   "source": [
    "# Show time spend in each country"
   ]
  },
  {
   "cell_type": "code",
   "execution_count": null,
   "metadata": {},
   "outputs": [],
   "source": [
    "%%time\n",
    "\n",
    "country_summary = (\n",
    "    gpd.sjoin(gdf, world, how=\"inner\", op=\"intersects\")\n",
    "    .groupby(\"name\")\n",
    "    .agg({\"duration\": \"sum\"})\n",
    ")\n",
    "\n",
    "tot_duration = country_summary.duration.sum()\n",
    "\n",
    "country_summary[\"%\"] = country_summary.apply(\n",
    "    lambda row: row.duration / tot_duration * 100, axis=1\n",
    ")\n",
    "\n",
    "country_summary.sort_values(\"duration\", ascending=False)"
   ]
  },
  {
   "cell_type": "code",
   "execution_count": null,
   "metadata": {},
   "outputs": [],
   "source": []
  }
 ],
 "metadata": {
  "kernelspec": {
   "display_name": "Python 3",
   "language": "python",
   "name": "python3"
  },
  "language_info": {
   "codemirror_mode": {
    "name": "ipython",
    "version": 3
   },
   "file_extension": ".py",
   "mimetype": "text/x-python",
   "name": "python",
   "nbconvert_exporter": "python",
   "pygments_lexer": "ipython3",
   "version": "3.7.3"
  }
 },
 "nbformat": 4,
 "nbformat_minor": 4
}
