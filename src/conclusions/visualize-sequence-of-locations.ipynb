{
 "cells": [
  {
   "cell_type": "code",
   "execution_count": null,
   "metadata": {},
   "outputs": [],
   "source": [
    "# auto format code at cell execution\n",
    "%load_ext lab_black\n",
    "\n",
    "root_location = \"../../\"\n",
    "import sys\n",
    "\n",
    "sys.path.append(root_location)\n",
    "\n",
    "import matplotlib.pyplot as plt\n",
    "import shapely.geometry as geometry\n",
    "\n",
    "from src.tools.pre_processing import read_csv_as_geopandas\n",
    "from src.tools.visualising import (\n",
    "    determine_extrema_with_border,\n",
    "    load_or_get_belgium_roads,\n",
    ")"
   ]
  },
  {
   "cell_type": "markdown",
   "metadata": {},
   "source": [
    "# Parameters"
   ]
  },
  {
   "cell_type": "code",
   "execution_count": null,
   "metadata": {},
   "outputs": [],
   "source": [
    "input_file_name = root_location + \"data/samples/year_2018_month_12_country_Belgium.csv\""
   ]
  },
  {
   "cell_type": "markdown",
   "metadata": {},
   "source": [
    "# Load data"
   ]
  },
  {
   "cell_type": "code",
   "execution_count": null,
   "metadata": {},
   "outputs": [],
   "source": [
    "%%time\n",
    "gdf = read_csv_as_geopandas(input_file_name)"
   ]
  },
  {
   "cell_type": "code",
   "execution_count": null,
   "metadata": {},
   "outputs": [],
   "source": [
    "gdf.head()"
   ]
  },
  {
   "cell_type": "markdown",
   "metadata": {},
   "source": [
    "# Backup geometry data"
   ]
  },
  {
   "cell_type": "code",
   "execution_count": null,
   "metadata": {},
   "outputs": [],
   "source": [
    "gdf[\"point\"] = gdf.geometry"
   ]
  },
  {
   "cell_type": "markdown",
   "metadata": {},
   "source": [
    "# Generate a context to each data point"
   ]
  },
  {
   "cell_type": "code",
   "execution_count": null,
   "metadata": {},
   "outputs": [],
   "source": [
    "%%time\n",
    "\n",
    "context_size = 25\n",
    "\n",
    "for i in range(1, context_size):\n",
    "    gdf[\"next-\" + str(i)] = gdf.point.shift(i)\n",
    "    \n",
    "gdf.dropna(inplace=True)\n",
    "gdf[\"geometry\"] = gdf.apply(\n",
    "    lambda row: geometry.LineString(\n",
    "        [\n",
    "            row[\"next-\" + str(i)] \n",
    "            for i \n",
    "            in range(1, context_size)\n",
    "        ]\n",
    "    )\n",
    "    , axis=1\n",
    ")\n",
    "\n",
    "gdf.drop(\n",
    "    [\n",
    "        \"next-\" + str(i)\n",
    "        for i \n",
    "        in range(1, context_size)\n",
    "    ],\n",
    "    axis=1,\n",
    "    inplace=True\n",
    ")"
   ]
  },
  {
   "cell_type": "code",
   "execution_count": null,
   "metadata": {},
   "outputs": [],
   "source": [
    "gdf.head()"
   ]
  },
  {
   "cell_type": "markdown",
   "metadata": {},
   "source": [
    "# Visualize 1 example"
   ]
  },
  {
   "cell_type": "code",
   "execution_count": null,
   "metadata": {},
   "outputs": [],
   "source": [
    "%%time\n",
    "\n",
    "partial_gdf = gdf.sample(1, random_state=0)\n",
    "\n",
    "x_max_with_border, x_min_with_border, y_max_with_border, y_min_with_border = (\n",
    "    determine_extrema_with_border(partial_gdf, absolute_border_size=0.003)\n",
    ")\n",
    "\n",
    "ax = load_or_get_belgium_roads(repository_root_location=root_location).plot(edgecolor=\"gray\", figsize=(10, 6), zorder=-1)\n",
    "partial_gdf.plot(ax=ax, edgecolor=\"red\", zorder=0, linewidth=5)\n",
    "\n",
    "plt.xlim([x_min_with_border, x_max_with_border])\n",
    "plt.ylim([y_min_with_border, y_max_with_border])\n",
    "\n",
    "partial_gdf.geometry"
   ]
  },
  {
   "cell_type": "code",
   "execution_count": null,
   "metadata": {},
   "outputs": [],
   "source": []
  }
 ],
 "metadata": {
  "kernelspec": {
   "display_name": "Python 3",
   "language": "python",
   "name": "python3"
  },
  "language_info": {
   "codemirror_mode": {
    "name": "ipython",
    "version": 3
   },
   "file_extension": ".py",
   "mimetype": "text/x-python",
   "name": "python",
   "nbconvert_exporter": "python",
   "pygments_lexer": "ipython3",
   "version": "3.7.3"
  }
 },
 "nbformat": 4,
 "nbformat_minor": 4
}
