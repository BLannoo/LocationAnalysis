{
 "cells": [
  {
   "cell_type": "code",
   "execution_count": null,
   "metadata": {},
   "outputs": [],
   "source": [
    "# auto format code at cell execution\n",
    "%load_ext lab_black\n",
    "\n",
    "root_location = \"../../\"\n",
    "import sys\n",
    "\n",
    "sys.path.append(root_location)\n",
    "\n",
    "import pandas as pd\n",
    "\n",
    "from src.tools.visualising import show_data_density\n",
    "\n",
    "%matplotlib inline"
   ]
  },
  {
   "cell_type": "markdown",
   "metadata": {},
   "source": [
    "# Parameters"
   ]
  },
  {
   "cell_type": "code",
   "execution_count": null,
   "metadata": {},
   "outputs": [],
   "source": [
    "input_file_name = root_location + \"data/samples/year_2018.csv\""
   ]
  },
  {
   "cell_type": "markdown",
   "metadata": {},
   "source": [
    "# Load data"
   ]
  },
  {
   "cell_type": "code",
   "execution_count": null,
   "metadata": {},
   "outputs": [],
   "source": [
    "%%time\n",
    "\n",
    "df = pd.read_csv(input_file_name)"
   ]
  },
  {
   "cell_type": "markdown",
   "metadata": {},
   "source": [
    "# Visualisations"
   ]
  },
  {
   "cell_type": "markdown",
   "metadata": {},
   "source": [
    "## Full data"
   ]
  },
  {
   "cell_type": "code",
   "execution_count": null,
   "metadata": {},
   "outputs": [],
   "source": [
    "%%time\n",
    "\n",
    "show_data_density(df, \"Full data\")"
   ]
  },
  {
   "cell_type": "markdown",
   "metadata": {},
   "source": [
    "## Georgia"
   ]
  },
  {
   "cell_type": "code",
   "execution_count": null,
   "metadata": {},
   "outputs": [],
   "source": [
    "%%time\n",
    "\n",
    "show_data_density(df, \"Georgia\", 410_000_000, 470_000_000, 410_000_000, 430_000_000)\n",
    "show_data_density(df, \"Tbilisi\", 447_200_000, 448_800_000, 410_000_000, 418_500_000)\n",
    "show_data_density(df, \"Tbilisi core\", 447_400_000, 448_200_000, 410_000_000, 417_400_000)\n",
    "show_data_density(df, \"Lili's\", 447_600_000, 447_850_000, 417_080_000, 417_200_000)"
   ]
  },
  {
   "cell_type": "markdown",
   "metadata": {},
   "source": [
    "## Europe"
   ]
  },
  {
   "cell_type": "code",
   "execution_count": null,
   "metadata": {},
   "outputs": [],
   "source": [
    "%%time\n",
    "\n",
    "show_data_density(df, \"Europe\", 10_000_000, 400_000_000, 400_000_000, 700_000_000)"
   ]
  },
  {
   "cell_type": "markdown",
   "metadata": {},
   "source": [
    "## Belgium\n",
    "Remark: roads_data_overlay.ipynb does something similar"
   ]
  },
  {
   "cell_type": "code",
   "execution_count": null,
   "metadata": {},
   "outputs": [],
   "source": [
    "%%time\n",
    "\n",
    "show_data_density(df, \"Belgium\", 10_000_000, 70_000_000, 505_000_000, 515_000_000)\n",
    "show_data_density(df, \"Brabant\", 42_000_000, 49_000_000, 507_000_000, 510_000_000)\n",
    "show_data_density(df, \"Brussel\", 42_750_000, 45_000_000, 508_000_000, 509_250_000)\n",
    "show_data_density(df, \"Leuven\", 46_700_000, 47_400_000, 508_400_000, 509_000_000)\n",
    "show_data_density(df, \"Leuven centrum\", 46_800_000, 47_200_000, 508_605_000, 508_900_000)\n",
    "show_data_density(df, \"Bankstraat\", 46_870_000, 46_940_000, 508_700_000, 508_800_000)\n",
    "show_data_density(df, \"Alf. Delaunois.\", 47_100_000, 47_200_000, 508_700_000, 508_750_000)\n",
    "show_data_density(df, \"Kunlabora\", 47_126_000, 47_140_000, 508_831_000, 508_838_000)"
   ]
  },
  {
   "cell_type": "code",
   "execution_count": null,
   "metadata": {},
   "outputs": [],
   "source": []
  }
 ],
 "metadata": {
  "kernelspec": {
   "display_name": "Python 3",
   "language": "python",
   "name": "python3"
  },
  "language_info": {
   "codemirror_mode": {
    "name": "ipython",
    "version": 3
   },
   "file_extension": ".py",
   "mimetype": "text/x-python",
   "name": "python",
   "nbconvert_exporter": "python",
   "pygments_lexer": "ipython3",
   "version": "3.7.3"
  }
 },
 "nbformat": 4,
 "nbformat_minor": 4
}
