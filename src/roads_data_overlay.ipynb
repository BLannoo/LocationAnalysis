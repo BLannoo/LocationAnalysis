{
 "cells": [
  {
   "cell_type": "code",
   "execution_count": null,
   "metadata": {},
   "outputs": [],
   "source": [
    "import geopandas as gpd\n",
    "import matplotlib.pyplot as plt\n",
    "\n",
    "import utils"
   ]
  },
  {
   "cell_type": "code",
   "execution_count": null,
   "metadata": {},
   "outputs": [],
   "source": [
    "%time\n",
    "gdf = utils.load_geo_data(\"../data/LocationHistory2018.json\")"
   ]
  },
  {
   "cell_type": "code",
   "execution_count": null,
   "metadata": {},
   "outputs": [],
   "source": [
    "world = gpd.read_file(gpd.datasets.get_path(\"naturalearth_lowres\"))\n",
    "world.crs = {\"init\" :\"epsg:4326\"}\n",
    "gdf_with_countries = gpd.sjoin(gdf, world, how=\"inner\", op=\"intersects\")"
   ]
  },
  {
   "cell_type": "code",
   "execution_count": null,
   "metadata": {},
   "outputs": [],
   "source": [
    "gdf_belgium = gdf_with_countries[gdf_with_countries[\"name\"] == \"Belgium\"]"
   ]
  },
  {
   "cell_type": "code",
   "execution_count": null,
   "metadata": {},
   "outputs": [],
   "source": [
    "belgium = gpd.read_file('../data/raw/Belgium/belgium-roads-shape/roads.shp')\n",
    "belgium.crs = {'init' :'epsg:4326'}\n",
    "# ax = world.plot(facecolor='lightgray', edgecolor='gray', figsize=(10, 6), zorder=-2)\n",
    "ax = belgium.plot(edgecolor='gray', figsize=(10, 6), zorder=-1)\n",
    "gdf_belgium.plot(ax=ax, marker='o', color='red', markersize=15, zorder=0)\n",
    "\n",
    "bounds = gdf_belgium.geometry.bounds\n",
    "plt.xlim([bounds.minx.min()-0.5, bounds.maxx.max()+0.5])\n",
    "plt.ylim([bounds.miny.min()-0.5, bounds.maxy.max()+0.5])"
   ]
  },
  {
   "cell_type": "code",
   "execution_count": null,
   "metadata": {},
   "outputs": [],
   "source": []
  }
 ],
 "metadata": {
  "kernelspec": {
   "display_name": "Python 3",
   "language": "python",
   "name": "python3"
  },
  "language_info": {
   "codemirror_mode": {
    "name": "ipython",
    "version": 3
   },
   "file_extension": ".py",
   "mimetype": "text/x-python",
   "name": "python",
   "nbconvert_exporter": "python",
   "pygments_lexer": "ipython3",
   "version": "3.6.4"
  }
 },
 "nbformat": 4,
 "nbformat_minor": 2
}
